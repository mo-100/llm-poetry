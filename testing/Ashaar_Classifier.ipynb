{
 "cells": [
  {
   "cell_type": "code",
   "execution_count": null,
   "metadata": {
    "colab": {
     "base_uri": "https://localhost:8080/"
    },
    "executionInfo": {
     "elapsed": 55477,
     "status": "ok",
     "timestamp": 1742148265360,
     "user": {
      "displayName": "Mohammed Aldawsari",
      "userId": "02931048274219773599"
     },
     "user_tz": -180
    },
    "id": "SfNV91QPH6kq",
    "outputId": "57e189dd-80ea-473a-af1b-d75e6f8a6823"
   },
   "outputs": [],
   "source": [
    "# Install required packages\n",
    "!pip install git+https://github.com/ARBML/bohour.git\n",
    "!pip install git+https://github.com/ARBML/tkseem.git\n",
    "!pip install sentence-transformers\n",
    "!pip install gdown\n",
    "\n",
    "# Clone the repository\n",
    "!git clone https://github.com/ARBML/Ashaar.git\n",
    "%cd Ashaar\n",
    "!pip install -e ."
   ]
  },
  {
   "cell_type": "code",
   "execution_count": null,
   "metadata": {
    "colab": {
     "base_uri": "https://localhost:8080/",
     "height": 528
    },
    "executionInfo": {
     "elapsed": 17096,
     "status": "error",
     "timestamp": 1742148332091,
     "user": {
      "displayName": "Mohammed Aldawsari",
      "userId": "02931048274219773599"
     },
     "user_tz": -180
    },
    "id": "pOeRf_2sIAuY",
    "outputId": "f7b71894-310c-46ef-b1ab-7c92824cc70c"
   },
   "outputs": [],
   "source": [
    "from Ashaar.bait_analysis import BaitAnalysis\n",
    "\n",
    "# Create an instance of the analyzer\n",
    "analysis = BaitAnalysis()\n",
    "\n",
    "# Test poetry line\n",
    "test_bait = \"ألا ليت شعري هل أبيتن ليلة # بجنب الغضى أزجي القلاص النواجيا\"\n",
    "\n",
    "# Analyze as a list of baits\n",
    "output = analysis.analyze([test_bait], override_tashkeel=True)"
   ]
  },
  {
   "cell_type": "code",
   "execution_count": null,
   "metadata": {
    "id": "68j6yR67IaYv"
   },
   "outputs": [],
   "source": []
  }
 ],
 "metadata": {
  "colab": {
   "authorship_tag": "ABX9TyN3ey+dKgfU4CUwGhUXij6Z",
   "provenance": []
  },
  "kernelspec": {
   "display_name": "Python 3",
   "name": "python3"
  },
  "language_info": {
   "name": "python"
  }
 },
 "nbformat": 4,
 "nbformat_minor": 0
}
